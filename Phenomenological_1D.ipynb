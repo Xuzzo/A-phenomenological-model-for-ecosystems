{
 "cells": [
  {
   "cell_type": "markdown",
   "metadata": {},
   "source": [
    "# Phenomenological Simulation Scheme in 1 dimension"
   ]
  },
  {
   "cell_type": "code",
   "execution_count": null,
   "metadata": {
    "collapsed": true
   },
   "outputs": [],
   "source": [
    "#sampling from spatial equilibrium distribution on a lattice\n",
    "import random as ran\n",
    "import numpy as np\n",
    "import time\n",
    "import math\n",
    "import os\n",
    "import sys\n",
    "from scipy.stats import gamma"
   ]
  },
  {
   "cell_type": "markdown",
   "metadata": {},
   "source": [
    "We initialize the lattice setting a constant number of individuals. This is an arbitrary choice. The intial configuration could be any distribution."
   ]
  },
  {
   "cell_type": "code",
   "execution_count": 4,
   "metadata": {
    "collapsed": false
   },
   "outputs": [],
   "source": [
    "def init_latt(N,param): #takes as input N, the number of sites in the lattice, and parameters, param\n",
    "    lattice=[param[1]/param[2] for index in range(N)]\n",
    "    return lattice"
   ]
  },
  {
   "cell_type": "markdown",
   "metadata": {},
   "source": [
    "We now define the single step of the simulation. Taking the lattice and parameters array, it updates their value depending on the values of the neighbors."
   ]
  },
  {
   "cell_type": "code",
   "execution_count": 5,
   "metadata": {
    "collapsed": true
   },
   "outputs": [],
   "source": [
    "def step(N,latt,param): \n",
    "    i=ran.randrange(0,N)\n",
    "    right=i+1\n",
    "    left=i-1\n",
    "    #we set periodic boundary conditions at the edges of the lattice\n",
    "    if right==N: right=0 \n",
    "    if left==-1: left=N-1\n",
    "    #now we sample from the gamma distribution accordin to the values at the nearest neighboring sites\n",
    "    Y=param[0]*(latt[destra]+latt[sinistra])+param[1]\n",
    "    Omega=param[2]+2*param[0]\n",
    "    scale=param[3]**2/Omega\n",
    "    shape=Y/param[3]**2\n",
    "    latt[i]=np.random.gamma(shape,scale)"
   ]
  },
  {
   "cell_type": "markdown",
   "metadata": {},
   "source": [
    "Now we set the total number of sites in the lattice (tot_iterations) and define the set of parameters. The we initialize the lattice."
   ]
  },
  {
   "cell_type": "code",
   "execution_count": 10,
   "metadata": {
    "collapsed": false
   },
   "outputs": [],
   "source": [
    "N_sites=10000\n",
    "param=[500,1,1,1000] #[D,b0,mu,sigma]\n",
    "tot_iterations=10000000000 #numero di iterazioni prima di fermare la simulazione\n",
    "latt=init_latt(N_sites,param)"
   ]
  },
  {
   "cell_type": "markdown",
   "metadata": {},
   "source": [
    "We now start a timer to calculate the performance of these simulations, and then repeat the 'step' function for the defined number of iterations."
   ]
  },
  {
   "cell_type": "code",
   "execution_count": null,
   "metadata": {
    "collapsed": true
   },
   "outputs": [],
   "source": [
    "t0 = time.time()\n",
    "for itera in range(0,tot_iterations):\n",
    "    step(N_sites,latt,param)\n",
    "t1 = time.time()"
   ]
  },
  {
   "cell_type": "markdown",
   "metadata": {},
   "source": [
    "Once this is finished, we will save the resulting lattice. Since we are going to run this code in a computer cluster, we give to the lattice the number in the queue. The lattices will be saved in the folder \\results with the associated number anticipated by the prefix 'latt'. Finally, we will print the running time in the output file."
   ]
  },
  {
   "cell_type": "code",
   "execution_count": null,
   "metadata": {
    "collapsed": true
   },
   "outputs": [],
   "source": [
    "name_lattice=sys.argv[1]\n",
    "name='latt'+str(nome_reticolo)\n",
    "myfile = open('./results'+'/'+name+'.txt', 'w')\n",
    "\n",
    "for value in latt:\n",
    "    myfile.write(str(value)+' ')\n",
    "    myfile.write('\\n')\n",
    "myfile.close()\n",
    "\n",
    "print(t1-t0)"
   ]
  }
 ],
 "metadata": {
  "anaconda-cloud": {},
  "kernelspec": {
   "display_name": "Python [Root]",
   "language": "python",
   "name": "Python [Root]"
  },
  "language_info": {
   "codemirror_mode": {
    "name": "ipython",
    "version": 3
   },
   "file_extension": ".py",
   "mimetype": "text/x-python",
   "name": "python",
   "nbconvert_exporter": "python",
   "pygments_lexer": "ipython3",
   "version": "3.5.1"
  }
 },
 "nbformat": 4,
 "nbformat_minor": 0
}
